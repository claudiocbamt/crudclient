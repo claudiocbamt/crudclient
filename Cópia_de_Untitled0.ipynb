{
  "nbformat": 4,
  "nbformat_minor": 0,
  "metadata": {
    "colab": {
      "provenance": [],
      "authorship_tag": "ABX9TyPHlEx0dbqMKWYZSNU3FVPb",
      "include_colab_link": true
    },
    "kernelspec": {
      "name": "python3",
      "display_name": "Python 3"
    },
    "language_info": {
      "name": "python"
    }
  },
  "cells": [
    {
      "cell_type": "markdown",
      "metadata": {
        "id": "view-in-github",
        "colab_type": "text"
      },
      "source": [
        "<a href=\"https://colab.research.google.com/github/claudiocbamt/crudclient/blob/main/C%C3%B3pia_de_Untitled0.ipynb\" target=\"_parent\"><img src=\"https://colab.research.google.com/assets/colab-badge.svg\" alt=\"Open In Colab\"/></a>"
      ]
    },
    {
      "cell_type": "code",
      "execution_count": null,
      "metadata": {
        "colab": {
          "base_uri": "https://localhost:8080/"
        },
        "id": "BOFQKI57QiAc",
        "outputId": "9e3e1b5c-6b0f-4c84-f4e5-c752a6f297c6"
      },
      "outputs": [
        {
          "output_type": "stream",
          "name": "stdout",
          "text": [
            "[1, 2, 3, 4, 5, 6, 7, 8, 9, 10]\n"
          ]
        }
      ],
      "source": [
        "list = []\n",
        "for lista in range(1,11,1):\n",
        "  \n",
        "  \n",
        "  list.append(lista)\n",
        "  if(len(list)== 10):\n",
        "     print(list)"
      ]
    },
    {
      "cell_type": "code",
      "source": [
        "list = []\n",
        "for lista in range(1,6,1):\n",
        "  \n",
        "  \n",
        "  list.append(lista)\n",
        "  if(len(list)== 5):\n",
        "     print(list)"
      ],
      "metadata": {
        "colab": {
          "base_uri": "https://localhost:8080/"
        },
        "id": "4q8uiUaWW6hM",
        "outputId": "0e77e3d6-fef8-4ae9-a190-468fb2674c84"
      },
      "execution_count": null,
      "outputs": [
        {
          "output_type": "stream",
          "name": "stdout",
          "text": [
            "[1, 2, 3, 4, 5]\n"
          ]
        }
      ]
    },
    {
      "cell_type": "code",
      "source": [
        "a=\"banco \"\n",
        "b=\"do brasil \"\n",
        "c=\" meu \"\n",
        "d=c+a+b\n",
        "print(d)"
      ],
      "metadata": {
        "colab": {
          "base_uri": "https://localhost:8080/"
        },
        "id": "6Xnx0xxYXP2C",
        "outputId": "f2d933cb-4832-4480-8509-646fee759d5e"
      },
      "execution_count": null,
      "outputs": [
        {
          "output_type": "stream",
          "name": "stdout",
          "text": [
            " meu banco do brasil \n"
          ]
        }
      ]
    },
    {
      "cell_type": "code",
      "source": [
        "meus_dados={\"nome\":\"CLAUDIO\", \"ENDERECO\":\"av calama\", \"numero\": 7773}\n",
        "print(meus_dados)"
      ],
      "metadata": {
        "colab": {
          "base_uri": "https://localhost:8080/"
        },
        "id": "hSZR7pjDX4QU",
        "outputId": "3233c3e1-7e2c-439d-9952-044a5e0b2ae1"
      },
      "execution_count": null,
      "outputs": [
        {
          "output_type": "stream",
          "name": "stdout",
          "text": [
            "{'nome': 'CLAUDIO', 'ENDERECO': 'av calama', 'numero': 7773}\n"
          ]
        }
      ]
    },
    {
      "cell_type": "code",
      "source": [
        "meus_dados={\"nome\":\"CLAUDIO\", \"ENDERECO\":\"av calama\", \"numero\": 7773}\n",
        "meus_dados.values()"
      ],
      "metadata": {
        "colab": {
          "base_uri": "https://localhost:8080/"
        },
        "id": "MnMPprGCZHe0",
        "outputId": "fdde81ff-7c50-4c0b-fd07-d8b12d317944"
      },
      "execution_count": null,
      "outputs": [
        {
          "output_type": "execute_result",
          "data": {
            "text/plain": [
              "dict_values(['CLAUDIO', 'av calama', 7773])"
            ]
          },
          "metadata": {},
          "execution_count": 30
        }
      ]
    },
    {
      "cell_type": "code",
      "source": [
        "meus_dados={\"nome\":\"CLAUDIO\", \"ENDERECO\":\"av calama\", \"numero\": 7773}\n",
        "meus_dados.items()"
      ],
      "metadata": {
        "colab": {
          "base_uri": "https://localhost:8080/"
        },
        "id": "tdQFXE-ObZOr",
        "outputId": "0cc08c80-2736-4d79-c9a9-266ec208d079"
      },
      "execution_count": null,
      "outputs": [
        {
          "output_type": "execute_result",
          "data": {
            "text/plain": [
              "dict_items([('nome', 'CLAUDIO'), ('ENDERECO', 'av calama'), ('numero', 7773)])"
            ]
          },
          "metadata": {},
          "execution_count": 31
        }
      ]
    },
    {
      "cell_type": "code",
      "source": [
        "meus_dados[\"casa\"]=\"71\"\n",
        "meus_dados.items()"
      ],
      "metadata": {
        "colab": {
          "base_uri": "https://localhost:8080/"
        },
        "id": "c-cVwZjhc6iz",
        "outputId": "4f80c1b8-376a-49e3-b266-2cc432db35d3"
      },
      "execution_count": null,
      "outputs": [
        {
          "output_type": "execute_result",
          "data": {
            "text/plain": [
              "dict_items([('nome', 'CLAUDIO'), ('ENDERECO', 'av calama'), ('numero', 7773), ('casa', '71')])"
            ]
          },
          "metadata": {},
          "execution_count": 34
        }
      ]
    }
  ]
}